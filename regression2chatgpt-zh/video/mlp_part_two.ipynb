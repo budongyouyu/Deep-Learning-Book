{
 "cells": [
  {
   "cell_type": "code",
   "execution_count": 1,
   "metadata": {},
   "outputs": [
    {
     "data": {
      "text/plain": [
       "<torch._C.Generator at 0x7fd540ee2150>"
      ]
     },
     "execution_count": 1,
     "metadata": {},
     "output_type": "execute_result"
    }
   ],
   "source": [
    "import torch\n",
    "import torch.nn.functional as F\n",
    "from sklearn.datasets import make_moons\n",
    "import numpy as np\n",
    "import matplotlib.pyplot as plt\n",
    "\n",
    "torch.manual_seed(1024)"
   ]
  },
  {
   "cell_type": "code",
   "execution_count": 16,
   "metadata": {},
   "outputs": [],
   "source": [
    "# 定义线性模型和Sigmoid函数\n",
    "\n",
    "class Linear:\n",
    "    \n",
    "    def __init__(self, in_features, out_features, bias=True):\n",
    "        '''\n",
    "        模型参数初始化\n",
    "        需要注意的是，此次故意没做参数初始化的优化\n",
    "        '''\n",
    "        self.weight = torch.randn((in_features, out_features), requires_grad=True)   # (in_features, out_features)\n",
    "        self.bias = torch.randn(out_features, requires_grad=True) if bias else None  # (             out_features)\n",
    "        \n",
    "    def __call__(self, x):\n",
    "        #           x: (B, in_features)\n",
    "        # self.weight:    (in_features, out_features)\n",
    "        self.out = x @ self.weight  # (B, out_features)\n",
    "        if self.bias is not None:\n",
    "            self.out += self.bias\n",
    "        return self.out\n",
    "    \n",
    "    def parameters(self):\n",
    "        '''\n",
    "        返回线性模型的参数，主要用于参数迭代更新\n",
    "        由于PyTorch的计算单元就是张量，\n",
    "        所以此次只需将不同参数简单合并成列表即可\n",
    "        '''\n",
    "        if self.bias is not None:\n",
    "            return [self.weight, self.bias]\n",
    "        return [self.weight]\n",
    "\n",
    "\n",
    "class Sigmoid:\n",
    "    \n",
    "    def __call__(self, x):\n",
    "        self.out = torch.sigmoid(x)\n",
    "        return self.out\n",
    "    \n",
    "    def parameters(self):\n",
    "        '''\n",
    "        Sigmoid函数没有模型参数\n",
    "        '''\n",
    "        return []"
   ]
  },
  {
   "cell_type": "code",
   "execution_count": 17,
   "metadata": {},
   "outputs": [],
   "source": [
    "class Sequential:\n",
    "    \n",
    "    def __init__(self, layers):\n",
    "        # layers表示的模型组件，比如线性模型，比如sigmoid\n",
    "        self.layers = layers\n",
    "        \n",
    "    def __call__(self, x):\n",
    "        for l in self.layers:\n",
    "            x = l(x)\n",
    "        self.out = x\n",
    "        return self.out\n",
    "    \n",
    "    def parameters(self):\n",
    "        # k = []\n",
    "        # for layer in self.layers:\n",
    "        #     for p in layer.parameters():\n",
    "        #         k.append(p)\n",
    "        return [p for layer in self.layers for p in layer.parameters()]\n",
    "    \n",
    "    def predict_proba(self, x):\n",
    "        # 计算概率预测\n",
    "        if isinstance(x, np.ndarray):\n",
    "            x = torch.tensor(x).float()\n",
    "        logits = self(x)\n",
    "        self.prob = F.softmax(logits, dim=-1).detach().numpy()\n",
    "        return self.prob"
   ]
  },
  {
   "cell_type": "code",
   "execution_count": 7,
   "metadata": {},
   "outputs": [
    {
     "data": {
      "text/plain": [
       "tensor([[-0.5756,  0.0729],\n",
       "        [-0.5902,  0.0307],\n",
       "        [-0.5812,  0.0562]])"
      ]
     },
     "execution_count": 7,
     "metadata": {},
     "output_type": "execute_result"
    }
   ],
   "source": [
    "# x: (B, 2)\n",
    "# mlp: [4, 4, 2]\n",
    "model = Sequential([\n",
    "    Linear(2, 4), Sigmoid(),  # (B, 4)\n",
    "    Linear(4, 4), Sigmoid(),  # (B, 4)\n",
    "    Linear(4, 2)\n",
    "])\n",
    "x = torch.randn(3, 2)\n",
    "model(x)"
   ]
  },
  {
   "cell_type": "code",
   "execution_count": 8,
   "metadata": {},
   "outputs": [
    {
     "data": {
      "text/plain": [
       "array([[0.34332383, 0.6566762 ],\n",
       "       [0.34957516, 0.6504248 ],\n",
       "       [0.34582347, 0.65417653]], dtype=float32)"
      ]
     },
     "execution_count": 8,
     "metadata": {},
     "output_type": "execute_result"
    }
   ],
   "source": [
    "model.predict_proba(x)"
   ]
  },
  {
   "cell_type": "code",
   "execution_count": 9,
   "metadata": {},
   "outputs": [],
   "source": [
    "def draw_data(data):\n",
    "    '''\n",
    "    将数据可视化\n",
    "    '''\n",
    "    fig = plt.figure(figsize=(5, 5))\n",
    "    ax = fig.add_subplot(1, 1, 1)\n",
    "    x, y = data\n",
    "    label1 = x[y > 0]\n",
    "    ax.scatter(label1[:, 0], label1[:, 1], marker='o')\n",
    "    label0 = x[y == 0]\n",
    "    ax.scatter(label0[:, 0], label0[:, 1], marker='^', color='k')\n",
    "    return ax\n",
    "\n",
    "def draw_model(ax, model):\n",
    "    '''\n",
    "    将模型的分离超平面可视化\n",
    "    '''\n",
    "    x1 = np.linspace(ax.get_xlim()[0], ax.get_xlim()[1], 100)\n",
    "    x2 = np.linspace(ax.get_ylim()[0], ax.get_ylim()[1], 100)\n",
    "    x1, x2 = np.meshgrid(x1, x2)\n",
    "    y = model.predict_proba(np.c_[x1.ravel(), x2.ravel()])[:, 1]\n",
    "    y = y.reshape(x1.shape)\n",
    "    ax.contourf(x1, x2, y, levels=[0, 0.5], colors=['gray'], alpha=0.4)\n",
    "    return ax"
   ]
  },
  {
   "cell_type": "code",
   "execution_count": 10,
   "metadata": {},
   "outputs": [
    {
     "data": {
      "text/plain": [
       "<Axes: >"
      ]
     },
     "execution_count": 10,
     "metadata": {},
     "output_type": "execute_result"
    },
    {
     "data": {
      "image/png": "[encoded data removed]",
      "text/plain": [
       "<Figure size 360x360 with 1 Axes>"
      ]
     },
     "metadata": {
      "needs_background": "light"
     },
     "output_type": "display_data"
    }
   ],
   "source": [
    "data = make_moons(200, noise=0.05)\n",
    "draw_data(data)"
   ]
  },
  {
   "cell_type": "code",
   "execution_count": 18,
   "metadata": {},
   "outputs": [],
   "source": [
    "batch_size = 20\n",
    "max_steps = 40000\n",
    "x, y = torch.tensor(data[0]).float(), torch.tensor(data[1])\n",
    "learning_rate = 0.1\n",
    "model = Sequential([\n",
    "    Linear(2, 4), Sigmoid(),  # (B, 4)\n",
    "    Linear(4, 4), Sigmoid(),  # (B, 4)\n",
    "    Linear(4, 2)\n",
    "])\n",
    "lossi = []\n",
    "\n",
    "for t in range(max_steps):\n",
    "    ix = (t * batch_size) % len(x)\n",
    "    xx = x[ix: ix + batch_size]\n",
    "    yy = y[ix: ix + batch_size]\n",
    "    logits = model(xx)\n",
    "    loss = F.cross_entropy(logits, yy)\n",
    "    loss.backward()\n",
    "    with torch.no_grad():\n",
    "        for p in model.parameters():\n",
    "            p -= learning_rate * p.grad\n",
    "            p.grad = None\n",
    "    lossi.append(loss.item())"
   ]
  },
  {
   "cell_type": "code",
   "execution_count": 20,
   "metadata": {},
   "outputs": [
    {
     "data": {
      "text/plain": [
       "<Axes: >"
      ]
     },
     "execution_count": 20,
     "metadata": {},
     "output_type": "execute_result"
    },
    {
     "data": {
      "image/png": "[encoded data removed]",
      "text/plain": [
       "<Figure size 360x360 with 1 Axes>"
      ]
     },
     "metadata": {
      "needs_background": "light"
     },
     "output_type": "display_data"
    }
   ],
   "source": [
    "ax = draw_data(data)\n",
    "draw_model(ax, model)"
   ]
  },
  {
   "cell_type": "code",
   "execution_count": 21,
   "metadata": {},
   "outputs": [
    {
     "data": {
      "text/plain": [
       "[<matplotlib.lines.Line2D at 0x7fd53113d2e0>]"
      ]
     },
     "execution_count": 21,
     "metadata": {},
     "output_type": "execute_result"
    },
    {
     "data": {
      "image/png": "[encoded data removed]",
      "text/plain": [
       "<Figure size 432x288 with 1 Axes>"
      ]
     },
     "metadata": {
      "needs_background": "light"
     },
     "output_type": "display_data"
    }
   ],
   "source": [
    "plt.plot(lossi)"
   ]
  },
  {
   "cell_type": "code",
   "execution_count": 24,
   "metadata": {},
   "outputs": [
    {
     "data": {
      "text/plain": [
       "tensor([1.5000, 3.5000, 5.5000, 7.5000, 9.5000])"
      ]
     },
     "execution_count": 24,
     "metadata": {},
     "output_type": "execute_result"
    }
   ],
   "source": [
    "torch.linspace(1, 10, 10).view(-1, 2).mean(dim=-1)"
   ]
  },
  {
   "cell_type": "code",
   "execution_count": 25,
   "metadata": {},
   "outputs": [
    {
     "data": {
      "text/plain": [
       "[<matplotlib.lines.Line2D at 0x7fd531334bb0>]"
      ]
     },
     "execution_count": 25,
     "metadata": {},
     "output_type": "execute_result"
    },
    {
     "data": {
      "image/png": "[encoded data removed]",
      "text/plain": [
       "<Figure size 432x288 with 1 Axes>"
      ]
     },
     "metadata": {
      "needs_background": "light"
     },
     "output_type": "display_data"
    }
   ],
   "source": [
    "plt.plot(torch.tensor(lossi).view(-1, 100).mean(dim=-1))"
   ]
  },
  {
   "cell_type": "code",
   "execution_count": null,
   "metadata": {},
   "outputs": [],
   "source": []
  }
 ],
 "metadata": {
  "kernelspec": {
   "display_name": "Python 3",
   "language": "python",
   "name": "python3"
  },
  "language_info": {
   "codemirror_mode": {
    "name": "ipython",
    "version": 3
   },
   "file_extension": ".py",
   "mimetype": "text/x-python",
   "name": "python",
   "nbconvert_exporter": "python",
   "pygments_lexer": "ipython3",
   "version": "3.8.5"
  }
 },
 "nbformat": 4,
 "nbformat_minor": 4
}
