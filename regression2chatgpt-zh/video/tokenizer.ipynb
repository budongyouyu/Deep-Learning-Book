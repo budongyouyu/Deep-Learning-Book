{
 "cells": [
  {
   "cell_type": "code",
   "execution_count": 1,
   "metadata": {},
   "outputs": [
    {
     "name": "stdout",
     "output_type": "stream",
     "text": [
      "\u001b[33mWARNING: Ignoring invalid distribution -abulate (/Users/tgbaggio/opt/anaconda3/lib/python3.8/site-packages)\u001b[0m\u001b[33m\n",
      "\u001b[0m\u001b[33mWARNING: Ignoring invalid distribution -y-mini-racer (/Users/tgbaggio/opt/anaconda3/lib/python3.8/site-packages)\u001b[0m\u001b[33m\n",
      "\u001b[0mRequirement already satisfied: transformers in /Users/tgbaggio/opt/anaconda3/lib/python3.8/site-packages (4.31.0)\n",
      "Requirement already satisfied: datasets in /Users/tgbaggio/opt/anaconda3/lib/python3.8/site-packages (2.14.2)\n",
      "Requirement already satisfied: filelock in /Users/tgbaggio/opt/anaconda3/lib/python3.8/site-packages (from transformers) (3.0.12)\n",
      "Requirement already satisfied: huggingface-hub<1.0,>=0.14.1 in /Users/tgbaggio/opt/anaconda3/lib/python3.8/site-packages (from transformers) (0.16.4)\n",
      "Requirement already satisfied: numpy>=1.17 in /Users/tgbaggio/opt/anaconda3/lib/python3.8/site-packages (from transformers) (1.24.4)\n",
      "Requirement already satisfied: packaging>=20.0 in /Users/tgbaggio/opt/anaconda3/lib/python3.8/site-packages (from transformers) (23.1)\n",
      "Requirement already satisfied: pyyaml>=5.1 in /Users/tgbaggio/opt/anaconda3/lib/python3.8/site-packages (from transformers) (5.3.1)\n",
      "Requirement already satisfied: regex!=2019.12.17 in /Users/tgbaggio/opt/anaconda3/lib/python3.8/site-packages (from transformers) (2020.10.15)\n",
      "Requirement already satisfied: requests in /Users/tgbaggio/opt/anaconda3/lib/python3.8/site-packages (from transformers) (2.24.0)\n",
      "Requirement already satisfied: tokenizers!=0.11.3,<0.14,>=0.11.1 in /Users/tgbaggio/opt/anaconda3/lib/python3.8/site-packages (from transformers) (0.13.3)\n",
      "Requirement already satisfied: safetensors>=0.3.1 in /Users/tgbaggio/opt/anaconda3/lib/python3.8/site-packages (from transformers) (0.3.1)\n",
      "Requirement already satisfied: tqdm>=4.27 in /Users/tgbaggio/opt/anaconda3/lib/python3.8/site-packages (from transformers) (4.65.0)\n",
      "Requirement already satisfied: pyarrow>=8.0.0 in /Users/tgbaggio/opt/anaconda3/lib/python3.8/site-packages (from datasets) (12.0.1)\n",
      "Requirement already satisfied: dill<0.3.8,>=0.3.0 in /Users/tgbaggio/opt/anaconda3/lib/python3.8/site-packages (from datasets) (0.3.7)\n",
      "Requirement already satisfied: pandas in /Users/tgbaggio/opt/anaconda3/lib/python3.8/site-packages (from datasets) (2.0.3)\n",
      "Requirement already satisfied: xxhash in /Users/tgbaggio/opt/anaconda3/lib/python3.8/site-packages (from datasets) (3.3.0)\n",
      "Requirement already satisfied: multiprocess in /Users/tgbaggio/opt/anaconda3/lib/python3.8/site-packages (from datasets) (0.70.15)\n",
      "Requirement already satisfied: fsspec>=2021.11.1 in /Users/tgbaggio/opt/anaconda3/lib/python3.8/site-packages (from fsspec[http]>=2021.11.1->datasets) (2023.6.0)\n",
      "Requirement already satisfied: aiohttp in /Users/tgbaggio/opt/anaconda3/lib/python3.8/site-packages (from datasets) (3.8.5)\n",
      "Requirement already satisfied: attrs>=17.3.0 in /Users/tgbaggio/opt/anaconda3/lib/python3.8/site-packages (from aiohttp->datasets) (23.1.0)\n",
      "Requirement already satisfied: charset-normalizer<4.0,>=2.0 in /Users/tgbaggio/opt/anaconda3/lib/python3.8/site-packages (from aiohttp->datasets) (3.2.0)\n",
      "Requirement already satisfied: multidict<7.0,>=4.5 in /Users/tgbaggio/opt/anaconda3/lib/python3.8/site-packages (from aiohttp->datasets) (6.0.4)\n",
      "Requirement already satisfied: async-timeout<5.0,>=4.0.0a3 in /Users/tgbaggio/opt/anaconda3/lib/python3.8/site-packages (from aiohttp->datasets) (4.0.2)\n",
      "Requirement already satisfied: yarl<2.0,>=1.0 in /Users/tgbaggio/opt/anaconda3/lib/python3.8/site-packages (from aiohttp->datasets) (1.9.2)\n",
      "Requirement already satisfied: frozenlist>=1.1.1 in /Users/tgbaggio/opt/anaconda3/lib/python3.8/site-packages (from aiohttp->datasets) (1.4.0)\n",
      "Requirement already satisfied: aiosignal>=1.1.2 in /Users/tgbaggio/opt/anaconda3/lib/python3.8/site-packages (from aiohttp->datasets) (1.3.1)\n",
      "Requirement already satisfied: typing-extensions>=3.7.4.3 in /Users/tgbaggio/opt/anaconda3/lib/python3.8/site-packages (from huggingface-hub<1.0,>=0.14.1->transformers) (4.8.0)\n",
      "Requirement already satisfied: chardet<4,>=3.0.2 in /Users/tgbaggio/opt/anaconda3/lib/python3.8/site-packages (from requests->transformers) (3.0.4)\n",
      "Requirement already satisfied: idna<3,>=2.5 in /Users/tgbaggio/opt/anaconda3/lib/python3.8/site-packages (from requests->transformers) (2.10)\n",
      "Requirement already satisfied: urllib3!=1.25.0,!=1.25.1,<1.26,>=1.21.1 in /Users/tgbaggio/opt/anaconda3/lib/python3.8/site-packages (from requests->transformers) (1.25.11)\n",
      "Requirement already satisfied: certifi>=2017.4.17 in /Users/tgbaggio/opt/anaconda3/lib/python3.8/site-packages (from requests->transformers) (2020.6.20)\n",
      "Requirement already satisfied: python-dateutil>=2.8.2 in /Users/tgbaggio/opt/anaconda3/lib/python3.8/site-packages (from pandas->datasets) (2.8.2)\n",
      "Requirement already satisfied: pytz>=2020.1 in /Users/tgbaggio/opt/anaconda3/lib/python3.8/site-packages (from pandas->datasets) (2020.1)\n",
      "Requirement already satisfied: tzdata>=2022.1 in /Users/tgbaggio/opt/anaconda3/lib/python3.8/site-packages (from pandas->datasets) (2023.3)\n",
      "Requirement already satisfied: six>=1.5 in /Users/tgbaggio/opt/anaconda3/lib/python3.8/site-packages (from python-dateutil>=2.8.2->pandas->datasets) (1.15.0)\n",
      "\u001b[33mWARNING: Ignoring invalid distribution -abulate (/Users/tgbaggio/opt/anaconda3/lib/python3.8/site-packages)\u001b[0m\u001b[33m\n",
      "\u001b[0m\u001b[33mWARNING: Ignoring invalid distribution -y-mini-racer (/Users/tgbaggio/opt/anaconda3/lib/python3.8/site-packages)\u001b[0m\u001b[33m\n",
      "\u001b[0m\u001b[33mDEPRECATION: pyodbc 4.0.0-unsupported has a non-standard version number. pip 24.1 will enforce this behaviour change. A possible replacement is to upgrade to a newer version of pyodbc or contact the author to suggest that they release a version with a conforming version number. Discussion can be found at https://github.com/pypa/pip/issues/12063\u001b[0m\u001b[33m\n",
      "\u001b[0m"
     ]
    }
   ],
   "source": [
    "!pip install transformers datasets"
   ]
  },
  {
   "cell_type": "code",
   "execution_count": 2,
   "metadata": {},
   "outputs": [],
   "source": [
    "from transformers import AutoTokenizer\n",
    "import matplotlib.pyplot as plt\n",
    "\n",
    "\n",
    "tokenizer_gpt2 = AutoTokenizer.from_pretrained('gpt2')"
   ]
  },
  {
   "cell_type": "code",
   "execution_count": 3,
   "metadata": {},
   "outputs": [],
   "source": [
    "# 分词效果示例，三段文本表示的意思是相近的\n",
    "text_fr = '''Évariste Galois (/ɡælˈwɑː/; français : [evaʁist ɡalwa] ; 25 octobre 1811 - 31 mai 1832) était un mathématicien français et un militant politique. Alors qu'il était encore adolescent, il parvint à déterminer une condition nécessaire et suffisante pour qu'un polynôme soit résoluble par des radicaux, résolvant ainsi un problème qui était resté ouvert pendant 350 ans. Son travail posa les fondements de la théorie de Galois et de la théorie des groupes, deux branches majeures de l'algèbre abstraite. Il était un fervent républicain et fut très impliqué dans les troubles politiques qui entourèrent la Révolution française de 1830. En raison de son activisme politique, il fut arrêté à plusieurs reprises, purgé une peine de plusieurs mois de prison. Pour des raisons restées obscures, peu de temps après sa libération de prison, il se battit en duel et décéda des blessures qu'il subit.'''\n",
    "text_en = '''Évariste Galois (/ɡælˈwɑː/; French: [evaʁist ɡalwa]; 25 October 1811 – 31 May 1832) was a French mathematician and political activist. While still in his teens, he was able to determine a necessary and sufficient condition for a polynomial to be solvable by radicals, thereby solving a problem that had been open for 350 years. His work laid the foundations for Galois theory and group theory, two major branches of abstract algebra. He was a staunch republican and was heavily involved in the political turmoil that surrounded the French Revolution of 1830. As a result of his political activism, he was arrested repeatedly, serving one jail sentence of several months. For reasons that remain obscure, shortly after his release from prison he fought in a duel and died of the wounds he suffered.'''\n",
    "text_zh = '''埃瓦里斯特·伽罗瓦（法语：Évariste Galois，1811年10月25日—1832年5月31日，法语发音： [evaʁist ɡalwa]）是一位法国数学家和政治活动家。尽管还在十几岁时，他就能够确定多项式能够通过根式求解的充分必要条件，从而解决了一个悬而未决的问题，该问题已经存在了350年。他的工作奠定了Galois理论和群论的基础，这两个是抽象代数的重要分支。他是一位坚定的共和派，深度参与了1830年法国大革命期间的政治动荡。由于他的政治活动，他多次被逮捕，其中一次入狱数月。由于原因不明，他在刑满释放后不久，参与了一场决斗并因受伤而去世。'''\n",
    "\n",
    "texts = {\n",
    "    'fr': text_fr,\n",
    "    'en': text_en,\n",
    "    'zh': text_zh\n",
    "}"
   ]
  },
  {
   "cell_type": "code",
   "execution_count": 4,
   "metadata": {},
   "outputs": [
    {
     "data": {
      "text/plain": [
       "[38351,\n",
       " 7785,\n",
       " 40833,\n",
       " 5027,\n",
       " 10924,\n",
       " 50247,\n",
       " 133,\n",
       " 94,\n",
       " 21241,\n",
       " 75,\n",
       " 45990,\n",
       " 86,\n",
       " 133,\n",
       " 239,\n",
       " 135,\n",
       " 238,\n",
       " 14,\n",
       " 26,\n",
       " 4141,\n",
       " 25,\n",
       " 685,\n",
       " 48855,\n",
       " 134,\n",
       " 223,\n",
       " 396,\n",
       " 220,\n",
       " 133,\n",
       " 94,\n",
       " 282,\n",
       " 10247,\n",
       " 11208,\n",
       " 1679,\n",
       " 3267,\n",
       " 1248,\n",
       " 1157,\n",
       " 784,\n",
       " 3261,\n",
       " 1737,\n",
       " 1248,\n",
       " 2624,\n",
       " 8,\n",
       " 373,\n",
       " 257,\n",
       " 4141,\n",
       " 48251,\n",
       " 290,\n",
       " 1964,\n",
       " 11276,\n",
       " 13,\n",
       " 2893,\n",
       " 991,\n",
       " 287,\n",
       " 465,\n",
       " 15508,\n",
       " 11,\n",
       " 339,\n",
       " 373,\n",
       " 1498,\n",
       " 284,\n",
       " 5004,\n",
       " 257,\n",
       " 3306,\n",
       " 290,\n",
       " 6751,\n",
       " 4006,\n",
       " 329,\n",
       " 257,\n",
       " 745,\n",
       " 6213,\n",
       " 49070,\n",
       " 284,\n",
       " 307,\n",
       " 1540,\n",
       " 23765,\n",
       " 416,\n",
       " 32842,\n",
       " 11,\n",
       " 12839,\n",
       " 18120,\n",
       " 257,\n",
       " 1917,\n",
       " 326,\n",
       " 550,\n",
       " 587,\n",
       " 1280,\n",
       " 329,\n",
       " 13803,\n",
       " 812,\n",
       " 13,\n",
       " 2399,\n",
       " 670,\n",
       " 8104,\n",
       " 262,\n",
       " 19369,\n",
       " 329,\n",
       " 5027,\n",
       " 10924,\n",
       " 4583,\n",
       " 290,\n",
       " 1448,\n",
       " 4583,\n",
       " 11,\n",
       " 734,\n",
       " 1688,\n",
       " 13737,\n",
       " 286,\n",
       " 12531,\n",
       " 37139,\n",
       " 13,\n",
       " 679,\n",
       " 373,\n",
       " 257,\n",
       " 34700,\n",
       " 41477,\n",
       " 290,\n",
       " 373,\n",
       " 7272,\n",
       " 2950,\n",
       " 287,\n",
       " 262,\n",
       " 1964,\n",
       " 26962,\n",
       " 326,\n",
       " 11191,\n",
       " 262,\n",
       " 4141,\n",
       " 9303,\n",
       " 286,\n",
       " 45440,\n",
       " 13,\n",
       " 1081,\n",
       " 257,\n",
       " 1255,\n",
       " 286,\n",
       " 465,\n",
       " 1964,\n",
       " 23034,\n",
       " 11,\n",
       " 339,\n",
       " 373,\n",
       " 5169,\n",
       " 7830,\n",
       " 11,\n",
       " 7351,\n",
       " 530,\n",
       " 7356,\n",
       " 6827,\n",
       " 286,\n",
       " 1811,\n",
       " 1933,\n",
       " 13,\n",
       " 1114,\n",
       " 3840,\n",
       " 326,\n",
       " 3520,\n",
       " 18611,\n",
       " 11,\n",
       " 8972,\n",
       " 706,\n",
       " 465,\n",
       " 2650,\n",
       " 422,\n",
       " 3770,\n",
       " 339,\n",
       " 8350,\n",
       " 287,\n",
       " 257,\n",
       " 24662,\n",
       " 290,\n",
       " 3724,\n",
       " 286,\n",
       " 262,\n",
       " 14129,\n",
       " 339,\n",
       " 6989,\n",
       " 13]"
      ]
     },
     "execution_count": 4,
     "metadata": {},
     "output_type": "execute_result"
    }
   ],
   "source": [
    "re = tokenizer_gpt2.encode(text_en)\n",
    "re"
   ]
  },
  {
   "cell_type": "code",
   "execution_count": 7,
   "metadata": {},
   "outputs": [
    {
     "data": {
      "text/plain": [
       "'É_var_iste_ Gal_ois_ (/_�_�_æ_l_ˈ_w_�_�_�_�_/_;_ French_:_ [_eva_�_�_ist_ _�_�_al_wa_];_ 25_ October_ 18_11_ –_ 31_ May_ 18_32_)_ was_ a_ French_ mathematician_ and_ political_ activist_._ While_ still_ in_ his_ teens_,_ he_ was_ able_ to_ determine_ a_ necessary_ and_ sufficient_ condition_ for_ a_ po_lyn_omial_ to_ be_ sol_vable_ by_ radicals_,_ thereby_ solving_ a_ problem_ that_ had_ been_ open_ for_ 350_ years_._ His_ work_ laid_ the_ foundations_ for_ Gal_ois_ theory_ and_ group_ theory_,_ two_ major_ branches_ of_ abstract_ algebra_._ He_ was_ a_ staunch_ republican_ and_ was_ heavily_ involved_ in_ the_ political_ turmoil_ that_ surrounded_ the_ French_ Revolution_ of_ 1830_._ As_ a_ result_ of_ his_ political_ activism_,_ he_ was_ arrested_ repeatedly_,_ serving_ one_ jail_ sentence_ of_ several_ months_._ For_ reasons_ that_ remain_ obscure_,_ shortly_ after_ his_ release_ from_ prison_ he_ fought_ in_ a_ duel_ and_ died_ of_ the_ wounds_ he_ suffered_.'"
      ]
     },
     "execution_count": 7,
     "metadata": {},
     "output_type": "execute_result"
    }
   ],
   "source": [
    "'_'.join([tokenizer_gpt2.decode(i) for i in tokenizer_gpt2.encode(text_en)])"
   ]
  },
  {
   "cell_type": "code",
   "execution_count": 8,
   "metadata": {},
   "outputs": [
    {
     "data": {
      "text/plain": [
       "\"É_var_iste_ Gal_ois_ (/_�_�_æ_l_ˈ_w_�_�_�_�_/_;_ fr_an_ç_ais_ :_ [_eva_�_�_ist_ _�_�_al_wa_]_ ;_ 25_ oct_ob_re_ 18_11_ -_ 31_ m_ai_ 18_32_)_ _ét_ait_ un_ math_é_matic_ien_ fr_an_ç_ais_ et_ un_ militant_ polit_ique_._ Al_ors_ qu_'_il_ _ét_ait_ enc_ore_ adolescent_,_ il_ par_v_int_ à_ dé_termin_er_ une_ condition_ n_é_cess_aire_ et_ suff_is_ante_ pour_ qu_'_un_ po_lyn_ô_me_ so_it_ r_és_ol_uble_ par_ des_ rad_ic_aux_,_ r_és_ol_vant_ a_ins_i_ un_ prob_l_è_me_ qui_ _ét_ait_ rest_é_ o_u_vert_ p_endant_ 350_ ans_._ Son_ tra_v_ail_ pos_a_ les_ fond_ements_ de_ la_ th_é_orie_ de_ Gal_ois_ et_ de_ la_ th_é_orie_ des_ group_es_,_ de_ux_ branches_ maj_e_ures_ de_ l_'_alg_è_bre_ ab_stra_ite_._ Il_ _ét_ait_ un_ ferv_ent_ ré_public_ain_ et_ fut_ tr_è_s_ impl_iqu_é_ d_ans_ les_ troubles_ polit_iques_ qui_ ent_our_è_rent_ la_ Ré_v_olution_ fr_an_ça_ise_ de_ 1830_._ En_ ra_ison_ de_ son_ activism_e_ polit_ique_,_ il_ fut_ arr_ê_t_é_ à_ plus_ie_urs_ re_prises_,_ pur_g_é_ une_ pe_ine_ de_ plus_ie_urs_ mo_is_ de_ prison_._ Pour_ des_ ra_isons_ rest_é_es_ obsc_ures_,_ pe_u_ de_ tem_ps_ apr_è_s_ sa_ lib_é_ration_ de_ prison_,_ il_ se_ batt_it_ en_ duel_ et_ dé_cé_da_ des_ bless_ures_ qu_'_il_ sub_it_.\""
      ]
     },
     "execution_count": 8,
     "metadata": {},
     "output_type": "execute_result"
    }
   ],
   "source": [
    "'_'.join([tokenizer_gpt2.decode(i) for i in tokenizer_gpt2.encode(text_fr)])"
   ]
  },
  {
   "cell_type": "code",
   "execution_count": 9,
   "metadata": {},
   "outputs": [
    {
     "data": {
      "text/plain": [
       "'�_�_�_�_�_�_�_�_�_�_�_�_·_�_�_�_�_�_�_�_�_�_�_�_�_�_�_�_�_�_�_É_var_iste_ Gal_ois_�_�_�_18_11_�_�_10_�_�_25_�_�_—_18_32_�_�_5_�_�_31_�_�_�_�_�_�_�_�_�_�_�_�_�_�_�_�_�_ [_eva_�_�_ist_ _�_�_al_wa_]_�_�_�_是_一_�_�_�_�_�_�_�_�_�_�_�_�_�_�_�_�_�_�_�_�_�_�_�_�_�_�_�_�_。_�_�_�_�_�_�_�_�_�_�_�_�_�_�_�_�_�_�_�_�_�_�_�_�_�_�_�_�_�_�_�_�_�_�_�_��_�_�_�_�_�_�_�_�_�_�_�_�_�_�_�_�_�_�_�_�_�_�_的_�_�_�_�_�_�_�_�_�_�_�_�_�_�_�_�_�_�_�_�_�_�_�_�_�_�_一_�_�_�_��_�_�_�_�_�_�_的_�_�_�_�_�_�_�_�_�_�_�_�_�_�_�_�_�_�_�_�_�_�_�_�_�_�_350_�_�_。_�_�_的_�_�_作_�_�_�_�_�_�_G_alo_is_�_�_�_�_�_�_�_�_�_�_�_�_�_�_的_�_�_�_�_�_�_�_�_�_�_�_�_�_�_�_是_�_�_�_�_�_�_代_�_�_的_�_�_�_�_�_�_�_�_�_。_�_�_是_一_�_�_�_�_�_�_�_的_�_�_�_�_�_�_�_�_�_�_�_�_�_�_�_�_�_�_�_�_�_�_18_30_�_�_�_�_�_�_大_�_�_�_�_�_�_�_�_�_的_�_�_�_�_�_�_�_�_�_�_�_。_�_�_�_�_�_�_的_�_�_�_�_�_�_�_�_�_�_�_�_�_�_�_�_�_�_�_�_�_�_�_�_�_�_�_�_�_�_�_�_�_�_中_一_�_�_�_�_�_�_�_�_�_�_�_。_�_�_�_�_�_�_�_�_不_�_�_�_�_�_�_�_�_�_�_�_�_�_�_�_�_�_�_�_�_�_不_�_�_�_�_�_�_�_�_�_�_�_一_�_�_�_�_�_�_�_�_�_�_�_�_�_�_�_�_�_�_�_�_。'"
      ]
     },
     "execution_count": 9,
     "metadata": {},
     "output_type": "execute_result"
    }
   ],
   "source": [
    "'_'.join([tokenizer_gpt2.decode(i) for i in tokenizer_gpt2.encode(text_zh)])"
   ]
  },
  {
   "cell_type": "code",
   "execution_count": 12,
   "metadata": {},
   "outputs": [],
   "source": [
    "def get_token_stats(tokenizer):\n",
    "    str_stats = {}\n",
    "    token_stats = {}\n",
    "    for (k, v) in texts.items():\n",
    "        str_stats[k] = len(v.split()) if k != 'zh' else len(v)\n",
    "        token_stats[k] = len(tokenizer.encode(v))\n",
    "    return str_stats, token_stats"
   ]
  },
  {
   "cell_type": "code",
   "execution_count": 13,
   "metadata": {},
   "outputs": [
    {
     "data": {
      "text/plain": [
       "({'fr': 142, 'en': 132, 'zh': 278}, {'fr': 307, 'en': 176, 'zh': 497})"
      ]
     },
     "execution_count": 13,
     "metadata": {},
     "output_type": "execute_result"
    }
   ],
   "source": [
    "get_token_stats(tokenizer_gpt2)"
   ]
  },
  {
   "cell_type": "code",
   "execution_count": 14,
   "metadata": {},
   "outputs": [],
   "source": [
    "def draw_bar(str_stats, token_stats):\n",
    "    # 将统计结果可视化\n",
    "    fig = plt.figure(figsize=(6, 6), dpi=80)\n",
    "    plt.rcParams['font.sans-serif'] = ['SimHei']\n",
    "    plt.rcParams['axes.unicode_minus'] = False\n",
    "    plt.rcParams.update({'font.size': 13})\n",
    "    bar_width = 0.1\n",
    "    base = range(len(str_stats))\n",
    "    br_str = [x - bar_width for x in base]\n",
    "    br_token = [x + bar_width for x in base]\n",
    "    plt.bar(br_str, str_stats.values(), color ='g',\n",
    "            width = bar_width * 2, label ='文本长度')\n",
    "    plt.bar(br_token, token_stats.values(), color ='b',\n",
    "            width = bar_width * 2, label ='分词后的长度')\n",
    "    plt.xticks([r for r in base], str_stats.keys(), fontsize=18)\n",
    "    plt.legend(shadow=True)\n",
    "    return fig"
   ]
  },
  {
   "cell_type": "code",
   "execution_count": 15,
   "metadata": {},
   "outputs": [
    {
     "data": {
      "image/png": "[encoded data removed]",
      "text/plain": [
       "<Figure size 480x480 with 1 Axes>"
      ]
     },
     "execution_count": 15,
     "metadata": {},
     "output_type": "execute_result"
    },
    {
     "data": {
      "image/png": "[encoded data removed]",
      "text/plain": [
       "<Figure size 480x480 with 1 Axes>"
      ]
     },
     "metadata": {
      "needs_background": "light"
     },
     "output_type": "display_data"
    }
   ],
   "source": [
    "draw_bar(*get_token_stats(tokenizer_gpt2))"
   ]
  },
  {
   "cell_type": "code",
   "execution_count": 16,
   "metadata": {},
   "outputs": [],
   "source": [
    "from datasets import load_dataset\n",
    "\n",
    "data = load_dataset('BelleGroup/train_0.5M_CN')"
   ]
  },
  {
   "cell_type": "code",
   "execution_count": 19,
   "metadata": {},
   "outputs": [
    {
     "data": {
      "text/plain": [
       "{'instruction': '给定一个文字输入，将其中的所有数字加1。\\n“明天的会议在9点开始，记得准时到达。”\\n',\n",
       " 'input': '',\n",
       " 'output': '“明天的会议在10点开始，记得准时到达。”'}"
      ]
     },
     "execution_count": 19,
     "metadata": {},
     "output_type": "execute_result"
    }
   ],
   "source": [
    "data['train'][1]"
   ]
  },
  {
   "cell_type": "code",
   "execution_count": 20,
   "metadata": {},
   "outputs": [],
   "source": [
    "def get_training_corpus():\n",
    "    d = data['train'].select(range(10000))\n",
    "    batch_size = 1000\n",
    "    for i in range(0, len(d), batch_size):\n",
    "        samples = d[i: i + batch_size]\n",
    "        yield samples.get('instruction', [])"
   ]
  },
  {
   "cell_type": "code",
   "execution_count": 21,
   "metadata": {},
   "outputs": [],
   "source": [
    "tokenizer_zh = tokenizer_gpt2.train_new_from_iterator(get_training_corpus(), 800)"
   ]
  },
  {
   "cell_type": "code",
   "execution_count": 22,
   "metadata": {},
   "outputs": [
    {
     "data": {
      "text/plain": [
       "'�_�_�_�_�_里_�_�_特_�_�_�_�_�_�_�_�_�_（_法_语_：_�_�_v_a_r_is_t_e_ _G_a_l_o_is_，_1_8_1_1_年_1_0_�_�_2_5_日_�_�_1_8_3_2_年_5_�_�_3_1_日_，_法_语_发_�_�_�_：_ _[_e_v_a_�_�_is_t_ _�_�_a_l_w_a_]_）_是_一_位_法_国_数_学_家_和_�_�_�_�_活_动_家_。_�_�_�_�_还_在_�_�_�_�_�_�_�_时_，_他_�_�_能_�_�_确_定_多_项_式_能_�_�_通_过_根_式_求_解_的_�_�_分_�_�_要_�_�_件_，_从_而_解_�_�_了_一个_�_�_而_�_�_�_�_的_问题_，_该_问题_�_�_经_�_�_在_了_3_5_0_年_。_他_的_工作_�_�_定_了_G_a_l_o_is_理_论_和_�_�_论_的_�_�_�_�_，_这_两个_是_�_�_�_�_�_�_�_数_的_重_要_分_�_�_。_他_是_一_位_�_�_定_的_�_�_和_�_�_，_�_�_�_度_�_�_与_了_1_8_3_0_年_法_国_大_�_�_�_�_期_间_的_�_�_�_�_动_�_�_�_。_�_�_于_他_的_�_�_�_�_活_动_，_他_多_�_�_�_�_�_�_�_�_�_，_其_中_一_�_�_入_�_�_数_�_�_。_�_�_于_�_�_因_不_明_，_他_在_�_�_�_�_�_�_�_�_�_后_不_�_�_，_�_�_与_了_一_场_�_�_�_�_并_因_�_�_�_�_而_去_�_�_。'"
      ]
     },
     "execution_count": 22,
     "metadata": {},
     "output_type": "execute_result"
    }
   ],
   "source": [
    "'_'.join([tokenizer_zh.decode(i) for i in tokenizer_zh.encode(text_zh)])"
   ]
  },
  {
   "cell_type": "code",
   "execution_count": 23,
   "metadata": {},
   "outputs": [
    {
     "data": {
      "text/plain": [
       "'�_�_v_a_r_is_t_e_ _G_a_l_o_is_ _(_/_�_�_�_�_l_�_�_w_�_�_�_�_/_;_ _F_re_n_c_h_:_ _[_e_v_a_�_�_is_t_ _�_�_a_l_w_a_]_;_ _2_5_ _O_c_t_o_b_er_ 1_8_1_1_ _�_�_ _3_1_ _M_a_y_ 1_8_3_2_)_ w_a_s_ a_ _F_re_n_c_h_ _m_at_he_m_at_ic_i_an_ a_n_d_ _p_o_l_i_t_ic_a_l_ a_c_t_i_v_is_t_._ _W_h_i_le_ s_t_i_l_l_ _in_ _h_is_ t_e_en_s_,_ _he_ w_a_s_ a_b_le_ t_o_ _d_e_t_er_m_in_e_ a_ _n_e_c_e_s_s_a_r_y_ a_n_d_ s_u_f_f_ic_i_en_t_ _c_on_d_i_t_i_on_ f_or_ a_ _p_o_l_y_n_om_i_a_l_ t_o_ b_e_ s_o_l_v_a_b_le_ b_y_ _r_a_d_ic_a_l_s_,_ the_re_b_y_ s_o_l_v_ing_ a_ _p_r_o_b_le_m_ t_h_at_ _h_a_d_ b_e_en_ _o_p_en_ f_or_ _3_5_0_ _y_e_a_r_s_._ _H_is_ w_or_k_ _l_a_i_d_ the_ f_o_u_n_d_at_i_on_s_ f_or_ _G_a_l_o_is_ the_or_y_ a_n_d_ _g_r_o_u_p_ the_or_y_,_ t_w_o_ _m_a_j_or_ b_r_an_c_he_s_ _o_f_ a_b_s_t_r_a_c_t_ a_l_g_e_b_r_a_._ _H_e_ w_a_s_ a_ s_t_a_u_n_c_h_ _re_p_u_b_l_ic_an_ a_n_d_ w_a_s_ _he_a_v_i_l_y_ _in_v_o_l_v_e_d_ _in_ the_ _p_o_l_i_t_ic_a_l_ t_u_r_m_o_i_l_ t_h_at_ s_u_r_r_o_u_n_d_e_d_ the_ _F_re_n_c_h_ _R_e_v_o_l_u_t_i_on_ _o_f_ 1_8_3_0_._ _A_s_ a_ _re_s_u_l_t_ _o_f_ _h_is_ _p_o_l_i_t_ic_a_l_ a_c_t_i_v_is_m_,_ _he_ w_a_s_ a_r_re_s_t_e_d_ _re_p_e_at_e_d_l_y_,_ s_er_v_ing_ _on_e_ _j_a_i_l_ s_en_t_en_c_e_ _o_f_ s_e_v_er_a_l_ _m_on_t_h_s_._ _F_or_ _re_a_s_on_s_ t_h_at_ _re_m_a_in_ _o_b_s_c_u_re_,_ s_h_or_t_l_y_ a_f_t_er_ _h_is_ _re_le_a_s_e_ f_r_om_ _p_r_is_on_ _he_ f_o_u_g_h_t_ _in_ a_ _d_u_e_l_ a_n_d_ _d_i_e_d_ _o_f_ the_ w_o_u_n_d_s_ _he_ s_u_f_f_er_e_d_.'"
      ]
     },
     "execution_count": 23,
     "metadata": {},
     "output_type": "execute_result"
    }
   ],
   "source": [
    "'_'.join([tokenizer_zh.decode(i) for i in tokenizer_zh.encode(text_en)])"
   ]
  },
  {
   "cell_type": "code",
   "execution_count": 24,
   "metadata": {},
   "outputs": [
    {
     "data": {
      "image/png": "[encoded data removed]",
      "text/plain": [
       "<Figure size 480x480 with 1 Axes>"
      ]
     },
     "execution_count": 24,
     "metadata": {},
     "output_type": "execute_result"
    },
    {
     "data": {
      "image/png": "[encoded data removed]",
      "text/plain": [
       "<Figure size 480x480 with 1 Axes>"
      ]
     },
     "metadata": {
      "needs_background": "light"
     },
     "output_type": "display_data"
    }
   ],
   "source": [
    "draw_bar(*get_token_stats(tokenizer_zh))"
   ]
  },
  {
   "cell_type": "code",
   "execution_count": null,
   "metadata": {},
   "outputs": [],
   "source": []
  },
  {
   "cell_type": "code",
   "execution_count": null,
   "metadata": {},
   "outputs": [],
   "source": []
  }
 ],
 "metadata": {
  "kernelspec": {
   "display_name": "Python 3",
   "language": "python",
   "name": "python3"
  },
  "language_info": {
   "codemirror_mode": {
    "name": "ipython",
    "version": 3
   },
   "file_extension": ".py",
   "mimetype": "text/x-python",
   "name": "python",
   "nbconvert_exporter": "python",
   "pygments_lexer": "ipython3",
   "version": "3.8.5"
  }
 },
 "nbformat": 4,
 "nbformat_minor": 4
}
